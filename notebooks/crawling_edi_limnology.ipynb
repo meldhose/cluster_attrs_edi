{
 "cells": [
  {
   "cell_type": "markdown",
   "metadata": {},
   "source": [
    "## Introduction"
   ]
  },
  {
   "cell_type": "markdown",
   "metadata": {
    "collapsed": true
   },
   "source": [
    "This IPython notebook illustrates how to crawl the web-site https://portal.edirepository.org/nis/home.jsp to obtain the limnology data files. First we need to import bs4 and other libraries."
   ]
  },
  {
   "cell_type": "code",
   "execution_count": 11,
   "metadata": {
    "collapsed": false
   },
   "outputs": [],
   "source": [
    "# import requitred libraries\n",
    "from bs4 import BeautifulSoup\n",
    "import requests\n",
    "import urllib.request\n",
    "import os\n",
    "import re\n",
    "import csv"
   ]
  },
  {
   "cell_type": "markdown",
   "metadata": {},
   "source": [
    "Next initialize the request session and make calls to the parent url with the session. Then, loop through the pages in the web url and find all the data links pertaining to limnology."
   ]
  },
  {
   "cell_type": "code",
   "execution_count": null,
   "metadata": {
    "collapsed": true
   },
   "outputs": [],
   "source": [
    "# Initializing session\n",
    "s = requests.Session()\n",
    "# Making call to parent url with session s\n",
    "s.post('https://portal.edirepository.org/nis/browseServlet?searchValue=limnology')\n",
    "links= []\n",
    "for i in range(0,307,10):\n",
    "    url = 'https://portal.edirepository.org/nis/simpleSearch?start='+str(i)+'&rows=10&sort=score,desc' \n",
    "    html_child = s.post(url)\n",
    "    html_childContent = html_child.content.decode('utf8')\n",
    "    new_links = re.findall('mapbrowse\\?packageid=[\\w\\-\\.]*',html_childContent)\n",
    "    links = links + new_links"
   ]
  },
  {
   "cell_type": "code",
   "execution_count": 4,
   "metadata": {
    "collapsed": false
   },
   "outputs": [
    {
     "data": {
      "text/plain": [
       "614"
      ]
     },
     "execution_count": 4,
     "metadata": {},
     "output_type": "execute_result"
    }
   ],
   "source": [
    "len(links)"
   ]
  },
  {
   "cell_type": "markdown",
   "metadata": {},
   "source": [
    "Filter out the duplicate links obtained and modify each link appropriately to obtain the data"
   ]
  },
  {
   "cell_type": "code",
   "execution_count": 7,
   "metadata": {
    "collapsed": false
   },
   "outputs": [
    {
     "data": {
      "text/plain": [
       "({'https://portal.edirepository.org/nis/mapbrowse?packageid=edi.101.2',\n",
       "  'https://portal.edirepository.org/nis/mapbrowse?packageid=edi.104.1',\n",
       "  'https://portal.edirepository.org/nis/mapbrowse?packageid=edi.118.3',\n",
       "  'https://portal.edirepository.org/nis/mapbrowse?packageid=edi.119.2',\n",
       "  'https://portal.edirepository.org/nis/mapbrowse?packageid=edi.12.1',\n",
       "  'https://portal.edirepository.org/nis/mapbrowse?packageid=edi.120.2',\n",
       "  'https://portal.edirepository.org/nis/mapbrowse?packageid=edi.121.1',\n",
       "  'https://portal.edirepository.org/nis/mapbrowse?packageid=edi.122.1',\n",
       "  'https://portal.edirepository.org/nis/mapbrowse?packageid=edi.126.2',\n",
       "  'https://portal.edirepository.org/nis/mapbrowse?packageid=edi.13.1',\n",
       "  'https://portal.edirepository.org/nis/mapbrowse?packageid=edi.133.2',\n",
       "  'https://portal.edirepository.org/nis/mapbrowse?packageid=edi.14.1',\n",
       "  'https://portal.edirepository.org/nis/mapbrowse?packageid=edi.15.5',\n",
       "  'https://portal.edirepository.org/nis/mapbrowse?packageid=edi.18.1',\n",
       "  'https://portal.edirepository.org/nis/mapbrowse?packageid=edi.19.1',\n",
       "  'https://portal.edirepository.org/nis/mapbrowse?packageid=edi.20.1',\n",
       "  'https://portal.edirepository.org/nis/mapbrowse?packageid=edi.21.1',\n",
       "  'https://portal.edirepository.org/nis/mapbrowse?packageid=edi.22.1',\n",
       "  'https://portal.edirepository.org/nis/mapbrowse?packageid=edi.23.1',\n",
       "  'https://portal.edirepository.org/nis/mapbrowse?packageid=edi.24.1',\n",
       "  'https://portal.edirepository.org/nis/mapbrowse?packageid=edi.25.1',\n",
       "  'https://portal.edirepository.org/nis/mapbrowse?packageid=edi.26.1',\n",
       "  'https://portal.edirepository.org/nis/mapbrowse?packageid=edi.27.1',\n",
       "  'https://portal.edirepository.org/nis/mapbrowse?packageid=edi.28.1',\n",
       "  'https://portal.edirepository.org/nis/mapbrowse?packageid=edi.29.1',\n",
       "  'https://portal.edirepository.org/nis/mapbrowse?packageid=edi.30.1',\n",
       "  'https://portal.edirepository.org/nis/mapbrowse?packageid=edi.31.1',\n",
       "  'https://portal.edirepository.org/nis/mapbrowse?packageid=edi.32.1',\n",
       "  'https://portal.edirepository.org/nis/mapbrowse?packageid=edi.33.1',\n",
       "  'https://portal.edirepository.org/nis/mapbrowse?packageid=edi.34.1',\n",
       "  'https://portal.edirepository.org/nis/mapbrowse?packageid=edi.35.1',\n",
       "  'https://portal.edirepository.org/nis/mapbrowse?packageid=edi.36.1',\n",
       "  'https://portal.edirepository.org/nis/mapbrowse?packageid=edi.37.1',\n",
       "  'https://portal.edirepository.org/nis/mapbrowse?packageid=edi.38.1',\n",
       "  'https://portal.edirepository.org/nis/mapbrowse?packageid=edi.39.1',\n",
       "  'https://portal.edirepository.org/nis/mapbrowse?packageid=edi.40.1',\n",
       "  'https://portal.edirepository.org/nis/mapbrowse?packageid=edi.41.1',\n",
       "  'https://portal.edirepository.org/nis/mapbrowse?packageid=edi.42.1',\n",
       "  'https://portal.edirepository.org/nis/mapbrowse?packageid=edi.46.1',\n",
       "  'https://portal.edirepository.org/nis/mapbrowse?packageid=edi.47.1',\n",
       "  'https://portal.edirepository.org/nis/mapbrowse?packageid=edi.48.1',\n",
       "  'https://portal.edirepository.org/nis/mapbrowse?packageid=edi.49.1',\n",
       "  'https://portal.edirepository.org/nis/mapbrowse?packageid=edi.50.1',\n",
       "  'https://portal.edirepository.org/nis/mapbrowse?packageid=edi.52.1',\n",
       "  'https://portal.edirepository.org/nis/mapbrowse?packageid=edi.53.1',\n",
       "  'https://portal.edirepository.org/nis/mapbrowse?packageid=edi.54.1',\n",
       "  'https://portal.edirepository.org/nis/mapbrowse?packageid=edi.55.1',\n",
       "  'https://portal.edirepository.org/nis/mapbrowse?packageid=edi.56.2',\n",
       "  'https://portal.edirepository.org/nis/mapbrowse?packageid=edi.57.2',\n",
       "  'https://portal.edirepository.org/nis/mapbrowse?packageid=edi.58.1',\n",
       "  'https://portal.edirepository.org/nis/mapbrowse?packageid=edi.59.1',\n",
       "  'https://portal.edirepository.org/nis/mapbrowse?packageid=edi.60.1',\n",
       "  'https://portal.edirepository.org/nis/mapbrowse?packageid=edi.61.1',\n",
       "  'https://portal.edirepository.org/nis/mapbrowse?packageid=edi.62.1',\n",
       "  'https://portal.edirepository.org/nis/mapbrowse?packageid=edi.63.3',\n",
       "  'https://portal.edirepository.org/nis/mapbrowse?packageid=edi.64.1',\n",
       "  'https://portal.edirepository.org/nis/mapbrowse?packageid=edi.65.1',\n",
       "  'https://portal.edirepository.org/nis/mapbrowse?packageid=edi.66.1',\n",
       "  'https://portal.edirepository.org/nis/mapbrowse?packageid=edi.67.1',\n",
       "  'https://portal.edirepository.org/nis/mapbrowse?packageid=edi.68.1',\n",
       "  'https://portal.edirepository.org/nis/mapbrowse?packageid=edi.69.2',\n",
       "  'https://portal.edirepository.org/nis/mapbrowse?packageid=edi.70.1',\n",
       "  'https://portal.edirepository.org/nis/mapbrowse?packageid=edi.71.1',\n",
       "  'https://portal.edirepository.org/nis/mapbrowse?packageid=edi.72.1',\n",
       "  'https://portal.edirepository.org/nis/mapbrowse?packageid=edi.73.1',\n",
       "  'https://portal.edirepository.org/nis/mapbrowse?packageid=edi.74.1',\n",
       "  'https://portal.edirepository.org/nis/mapbrowse?packageid=edi.75.1',\n",
       "  'https://portal.edirepository.org/nis/mapbrowse?packageid=edi.76.1',\n",
       "  'https://portal.edirepository.org/nis/mapbrowse?packageid=edi.77.1',\n",
       "  'https://portal.edirepository.org/nis/mapbrowse?packageid=edi.78.1',\n",
       "  'https://portal.edirepository.org/nis/mapbrowse?packageid=edi.79.1',\n",
       "  'https://portal.edirepository.org/nis/mapbrowse?packageid=edi.8.5',\n",
       "  'https://portal.edirepository.org/nis/mapbrowse?packageid=edi.80.1',\n",
       "  'https://portal.edirepository.org/nis/mapbrowse?packageid=edi.81.1',\n",
       "  'https://portal.edirepository.org/nis/mapbrowse?packageid=edi.82.1',\n",
       "  'https://portal.edirepository.org/nis/mapbrowse?packageid=edi.83.1',\n",
       "  'https://portal.edirepository.org/nis/mapbrowse?packageid=edi.84.1',\n",
       "  'https://portal.edirepository.org/nis/mapbrowse?packageid=edi.85.1',\n",
       "  'https://portal.edirepository.org/nis/mapbrowse?packageid=edi.86.2',\n",
       "  'https://portal.edirepository.org/nis/mapbrowse?packageid=edi.87.1',\n",
       "  'https://portal.edirepository.org/nis/mapbrowse?packageid=edi.88.1',\n",
       "  'https://portal.edirepository.org/nis/mapbrowse?packageid=edi.89.1',\n",
       "  'https://portal.edirepository.org/nis/mapbrowse?packageid=edi.91.1',\n",
       "  'https://portal.edirepository.org/nis/mapbrowse?packageid=edi.92.1',\n",
       "  'https://portal.edirepository.org/nis/mapbrowse?packageid=edi.93.1',\n",
       "  'https://portal.edirepository.org/nis/mapbrowse?packageid=edi.94.1',\n",
       "  'https://portal.edirepository.org/nis/mapbrowse?packageid=edi.95.1',\n",
       "  'https://portal.edirepository.org/nis/mapbrowse?packageid=edi.96.1',\n",
       "  'https://portal.edirepository.org/nis/mapbrowse?packageid=edi.97.1',\n",
       "  'https://portal.edirepository.org/nis/mapbrowse?packageid=edi.98.4',\n",
       "  'https://portal.edirepository.org/nis/mapbrowse?packageid=knb-lter-arc.10093.4',\n",
       "  'https://portal.edirepository.org/nis/mapbrowse?packageid=knb-lter-arc.10221.3',\n",
       "  'https://portal.edirepository.org/nis/mapbrowse?packageid=knb-lter-arc.10231.3',\n",
       "  'https://portal.edirepository.org/nis/mapbrowse?packageid=knb-lter-arc.10238.4',\n",
       "  'https://portal.edirepository.org/nis/mapbrowse?packageid=knb-lter-arc.10255.2',\n",
       "  'https://portal.edirepository.org/nis/mapbrowse?packageid=knb-lter-arc.10256.2',\n",
       "  'https://portal.edirepository.org/nis/mapbrowse?packageid=knb-lter-arc.10257.2',\n",
       "  'https://portal.edirepository.org/nis/mapbrowse?packageid=knb-lter-arc.10258.2',\n",
       "  'https://portal.edirepository.org/nis/mapbrowse?packageid=knb-lter-arc.10259.2',\n",
       "  'https://portal.edirepository.org/nis/mapbrowse?packageid=knb-lter-arc.10260.2',\n",
       "  'https://portal.edirepository.org/nis/mapbrowse?packageid=knb-lter-arc.10301.4',\n",
       "  'https://portal.edirepository.org/nis/mapbrowse?packageid=knb-lter-arc.10406.2',\n",
       "  'https://portal.edirepository.org/nis/mapbrowse?packageid=knb-lter-arc.10407.2',\n",
       "  'https://portal.edirepository.org/nis/mapbrowse?packageid=knb-lter-arc.10581.4',\n",
       "  'https://portal.edirepository.org/nis/mapbrowse?packageid=knb-lter-arc.10582.3',\n",
       "  'https://portal.edirepository.org/nis/mapbrowse?packageid=knb-lter-arc.10583.4',\n",
       "  'https://portal.edirepository.org/nis/mapbrowse?packageid=knb-lter-arc.10584.4',\n",
       "  'https://portal.edirepository.org/nis/mapbrowse?packageid=knb-lter-arc.10585.2',\n",
       "  'https://portal.edirepository.org/nis/mapbrowse?packageid=knb-lter-bes.2070.180',\n",
       "  'https://portal.edirepository.org/nis/mapbrowse?packageid=knb-lter-fce.1071.8',\n",
       "  'https://portal.edirepository.org/nis/mapbrowse?packageid=knb-lter-fce.1082.8',\n",
       "  'https://portal.edirepository.org/nis/mapbrowse?packageid=knb-lter-fce.1091.3',\n",
       "  'https://portal.edirepository.org/nis/mapbrowse?packageid=knb-lter-fce.1100.2',\n",
       "  'https://portal.edirepository.org/nis/mapbrowse?packageid=knb-lter-fce.1101.3',\n",
       "  'https://portal.edirepository.org/nis/mapbrowse?packageid=knb-lter-fce.1103.2',\n",
       "  'https://portal.edirepository.org/nis/mapbrowse?packageid=knb-lter-fce.1104.2',\n",
       "  'https://portal.edirepository.org/nis/mapbrowse?packageid=knb-lter-fce.1105.2',\n",
       "  'https://portal.edirepository.org/nis/mapbrowse?packageid=knb-lter-fce.1106.2',\n",
       "  'https://portal.edirepository.org/nis/mapbrowse?packageid=knb-lter-fce.1107.8',\n",
       "  'https://portal.edirepository.org/nis/mapbrowse?packageid=knb-lter-fce.1109.3',\n",
       "  'https://portal.edirepository.org/nis/mapbrowse?packageid=knb-lter-fce.1110.9',\n",
       "  'https://portal.edirepository.org/nis/mapbrowse?packageid=knb-lter-fce.1111.7',\n",
       "  'https://portal.edirepository.org/nis/mapbrowse?packageid=knb-lter-fce.1115.3',\n",
       "  'https://portal.edirepository.org/nis/mapbrowse?packageid=knb-lter-fce.1119.4',\n",
       "  'https://portal.edirepository.org/nis/mapbrowse?packageid=knb-lter-fce.1132.4',\n",
       "  'https://portal.edirepository.org/nis/mapbrowse?packageid=knb-lter-fce.1142.2',\n",
       "  'https://portal.edirepository.org/nis/mapbrowse?packageid=knb-lter-fce.1159.2',\n",
       "  'https://portal.edirepository.org/nis/mapbrowse?packageid=knb-lter-fce.1160.3',\n",
       "  'https://portal.edirepository.org/nis/mapbrowse?packageid=knb-lter-fce.1174.7',\n",
       "  'https://portal.edirepository.org/nis/mapbrowse?packageid=knb-lter-gce.581.5',\n",
       "  'https://portal.edirepository.org/nis/mapbrowse?packageid=knb-lter-gce.638.2',\n",
       "  'https://portal.edirepository.org/nis/mapbrowse?packageid=knb-lter-hbr.118.3',\n",
       "  'https://portal.edirepository.org/nis/mapbrowse?packageid=knb-lter-jrn.210001003.78',\n",
       "  'https://portal.edirepository.org/nis/mapbrowse?packageid=knb-lter-jrn.2100169001.38',\n",
       "  'https://portal.edirepository.org/nis/mapbrowse?packageid=knb-lter-jrn.2100169002.47',\n",
       "  'https://portal.edirepository.org/nis/mapbrowse?packageid=knb-lter-jrn.210169001.59',\n",
       "  'https://portal.edirepository.org/nis/mapbrowse?packageid=knb-lter-jrn.210169002.69',\n",
       "  'https://portal.edirepository.org/nis/mapbrowse?packageid=knb-lter-knz.21.3',\n",
       "  'https://portal.edirepository.org/nis/mapbrowse?packageid=knb-lter-luq.136.313353',\n",
       "  'https://portal.edirepository.org/nis/mapbrowse?packageid=knb-lter-mcm.10002.5',\n",
       "  'https://portal.edirepository.org/nis/mapbrowse?packageid=knb-lter-mcm.3001.6',\n",
       "  'https://portal.edirepository.org/nis/mapbrowse?packageid=knb-lter-mcm.3002.8',\n",
       "  'https://portal.edirepository.org/nis/mapbrowse?packageid=knb-lter-mcm.301.4',\n",
       "  'https://portal.edirepository.org/nis/mapbrowse?packageid=knb-lter-mcm.302.4',\n",
       "  'https://portal.edirepository.org/nis/mapbrowse?packageid=knb-lter-mcm.303.3',\n",
       "  'https://portal.edirepository.org/nis/mapbrowse?packageid=knb-lter-mcm.304.4',\n",
       "  'https://portal.edirepository.org/nis/mapbrowse?packageid=knb-lter-mcm.305.2',\n",
       "  'https://portal.edirepository.org/nis/mapbrowse?packageid=knb-lter-mcm.38.7',\n",
       "  'https://portal.edirepository.org/nis/mapbrowse?packageid=knb-lter-mcm.39.13',\n",
       "  'https://portal.edirepository.org/nis/mapbrowse?packageid=knb-lter-mcm.40.4',\n",
       "  'https://portal.edirepository.org/nis/mapbrowse?packageid=knb-lter-mcm.41.6',\n",
       "  'https://portal.edirepository.org/nis/mapbrowse?packageid=knb-lter-mcm.42.6',\n",
       "  'https://portal.edirepository.org/nis/mapbrowse?packageid=knb-lter-mcm.43.6',\n",
       "  'https://portal.edirepository.org/nis/mapbrowse?packageid=knb-lter-mcm.44.6',\n",
       "  'https://portal.edirepository.org/nis/mapbrowse?packageid=knb-lter-mcm.45.5',\n",
       "  'https://portal.edirepository.org/nis/mapbrowse?packageid=knb-lter-mcm.46.8',\n",
       "  'https://portal.edirepository.org/nis/mapbrowse?packageid=knb-lter-mcm.48.8',\n",
       "  'https://portal.edirepository.org/nis/mapbrowse?packageid=knb-lter-mcm.49.6',\n",
       "  'https://portal.edirepository.org/nis/mapbrowse?packageid=knb-lter-mcm.50.5',\n",
       "  'https://portal.edirepository.org/nis/mapbrowse?packageid=knb-lter-mcm.51.5',\n",
       "  'https://portal.edirepository.org/nis/mapbrowse?packageid=knb-lter-mcm.52.4',\n",
       "  'https://portal.edirepository.org/nis/mapbrowse?packageid=knb-lter-mcm.53.5',\n",
       "  'https://portal.edirepository.org/nis/mapbrowse?packageid=knb-lter-mcm.55.5',\n",
       "  'https://portal.edirepository.org/nis/mapbrowse?packageid=knb-lter-mcm.56.13',\n",
       "  'https://portal.edirepository.org/nis/mapbrowse?packageid=knb-lter-mcm.57.10',\n",
       "  'https://portal.edirepository.org/nis/mapbrowse?packageid=knb-lter-mcm.58.5',\n",
       "  'https://portal.edirepository.org/nis/mapbrowse?packageid=knb-lter-mcm.59.7',\n",
       "  'https://portal.edirepository.org/nis/mapbrowse?packageid=knb-lter-mcm.60.8',\n",
       "  'https://portal.edirepository.org/nis/mapbrowse?packageid=knb-lter-mcm.6001.6',\n",
       "  'https://portal.edirepository.org/nis/mapbrowse?packageid=knb-lter-mcm.6002.5',\n",
       "  'https://portal.edirepository.org/nis/mapbrowse?packageid=knb-lter-mcm.6003.5',\n",
       "  'https://portal.edirepository.org/nis/mapbrowse?packageid=knb-lter-mcm.6004.7',\n",
       "  'https://portal.edirepository.org/nis/mapbrowse?packageid=knb-lter-mcm.61.9',\n",
       "  'https://portal.edirepository.org/nis/mapbrowse?packageid=knb-lter-mcm.62.10',\n",
       "  'https://portal.edirepository.org/nis/mapbrowse?packageid=knb-lter-mcm.63.8',\n",
       "  'https://portal.edirepository.org/nis/mapbrowse?packageid=knb-lter-mcm.65.5',\n",
       "  'https://portal.edirepository.org/nis/mapbrowse?packageid=knb-lter-mcm.66.6',\n",
       "  'https://portal.edirepository.org/nis/mapbrowse?packageid=knb-lter-mcm.69.5',\n",
       "  'https://portal.edirepository.org/nis/mapbrowse?packageid=knb-lter-mcm.70.5',\n",
       "  'https://portal.edirepository.org/nis/mapbrowse?packageid=knb-lter-mcm.71.5',\n",
       "  'https://portal.edirepository.org/nis/mapbrowse?packageid=knb-lter-mcm.72.5',\n",
       "  'https://portal.edirepository.org/nis/mapbrowse?packageid=knb-lter-mcm.73.6',\n",
       "  'https://portal.edirepository.org/nis/mapbrowse?packageid=knb-lter-mcm.88.13',\n",
       "  'https://portal.edirepository.org/nis/mapbrowse?packageid=knb-lter-mcr.5005.5',\n",
       "  'https://portal.edirepository.org/nis/mapbrowse?packageid=knb-lter-ntl.1.33',\n",
       "  'https://portal.edirepository.org/nis/mapbrowse?packageid=knb-lter-ntl.10.17',\n",
       "  'https://portal.edirepository.org/nis/mapbrowse?packageid=knb-lter-ntl.10000.1',\n",
       "  'https://portal.edirepository.org/nis/mapbrowse?packageid=knb-lter-ntl.11.24',\n",
       "  'https://portal.edirepository.org/nis/mapbrowse?packageid=knb-lter-ntl.112.6',\n",
       "  'https://portal.edirepository.org/nis/mapbrowse?packageid=knb-lter-ntl.116.10',\n",
       "  'https://portal.edirepository.org/nis/mapbrowse?packageid=knb-lter-ntl.117.15',\n",
       "  'https://portal.edirepository.org/nis/mapbrowse?packageid=knb-lter-ntl.118.10',\n",
       "  'https://portal.edirepository.org/nis/mapbrowse?packageid=knb-lter-ntl.119.7',\n",
       "  'https://portal.edirepository.org/nis/mapbrowse?packageid=knb-lter-ntl.120.8',\n",
       "  'https://portal.edirepository.org/nis/mapbrowse?packageid=knb-lter-ntl.121.8',\n",
       "  'https://portal.edirepository.org/nis/mapbrowse?packageid=knb-lter-ntl.122.9',\n",
       "  'https://portal.edirepository.org/nis/mapbrowse?packageid=knb-lter-ntl.129.18',\n",
       "  'https://portal.edirepository.org/nis/mapbrowse?packageid=knb-lter-ntl.130.21',\n",
       "  'https://portal.edirepository.org/nis/mapbrowse?packageid=knb-lter-ntl.131.2',\n",
       "  'https://portal.edirepository.org/nis/mapbrowse?packageid=knb-lter-ntl.135.11',\n",
       "  'https://portal.edirepository.org/nis/mapbrowse?packageid=knb-lter-ntl.138.11',\n",
       "  'https://portal.edirepository.org/nis/mapbrowse?packageid=knb-lter-ntl.139.10',\n",
       "  'https://portal.edirepository.org/nis/mapbrowse?packageid=knb-lter-ntl.140.10',\n",
       "  'https://portal.edirepository.org/nis/mapbrowse?packageid=knb-lter-ntl.141.15',\n",
       "  'https://portal.edirepository.org/nis/mapbrowse?packageid=knb-lter-ntl.142.8',\n",
       "  'https://portal.edirepository.org/nis/mapbrowse?packageid=knb-lter-ntl.143.10',\n",
       "  'https://portal.edirepository.org/nis/mapbrowse?packageid=knb-lter-ntl.144.10',\n",
       "  'https://portal.edirepository.org/nis/mapbrowse?packageid=knb-lter-ntl.145.9',\n",
       "  'https://portal.edirepository.org/nis/mapbrowse?packageid=knb-lter-ntl.147.9',\n",
       "  'https://portal.edirepository.org/nis/mapbrowse?packageid=knb-lter-ntl.148.10',\n",
       "  'https://portal.edirepository.org/nis/mapbrowse?packageid=knb-lter-ntl.149.11',\n",
       "  'https://portal.edirepository.org/nis/mapbrowse?packageid=knb-lter-ntl.150.9',\n",
       "  'https://portal.edirepository.org/nis/mapbrowse?packageid=knb-lter-ntl.151.10',\n",
       "  'https://portal.edirepository.org/nis/mapbrowse?packageid=knb-lter-ntl.152.10',\n",
       "  'https://portal.edirepository.org/nis/mapbrowse?packageid=knb-lter-ntl.153.9',\n",
       "  'https://portal.edirepository.org/nis/mapbrowse?packageid=knb-lter-ntl.154.11',\n",
       "  'https://portal.edirepository.org/nis/mapbrowse?packageid=knb-lter-ntl.155.11',\n",
       "  'https://portal.edirepository.org/nis/mapbrowse?packageid=knb-lter-ntl.156.10',\n",
       "  'https://portal.edirepository.org/nis/mapbrowse?packageid=knb-lter-ntl.157.9',\n",
       "  'https://portal.edirepository.org/nis/mapbrowse?packageid=knb-lter-ntl.159.12',\n",
       "  'https://portal.edirepository.org/nis/mapbrowse?packageid=knb-lter-ntl.160.9',\n",
       "  'https://portal.edirepository.org/nis/mapbrowse?packageid=knb-lter-ntl.161.10',\n",
       "  'https://portal.edirepository.org/nis/mapbrowse?packageid=knb-lter-ntl.175.12',\n",
       "  'https://portal.edirepository.org/nis/mapbrowse?packageid=knb-lter-ntl.176.9',\n",
       "  'https://portal.edirepository.org/nis/mapbrowse?packageid=knb-lter-ntl.177.17',\n",
       "  'https://portal.edirepository.org/nis/mapbrowse?packageid=knb-lter-ntl.192.6',\n",
       "  'https://portal.edirepository.org/nis/mapbrowse?packageid=knb-lter-ntl.2.22',\n",
       "  'https://portal.edirepository.org/nis/mapbrowse?packageid=knb-lter-ntl.210.7',\n",
       "  'https://portal.edirepository.org/nis/mapbrowse?packageid=knb-lter-ntl.215.8',\n",
       "  'https://portal.edirepository.org/nis/mapbrowse?packageid=knb-lter-ntl.223.7',\n",
       "  'https://portal.edirepository.org/nis/mapbrowse?packageid=knb-lter-ntl.226.6',\n",
       "  'https://portal.edirepository.org/nis/mapbrowse?packageid=knb-lter-ntl.227.4',\n",
       "  'https://portal.edirepository.org/nis/mapbrowse?packageid=knb-lter-ntl.228.4',\n",
       "  'https://portal.edirepository.org/nis/mapbrowse?packageid=knb-lter-ntl.229.4',\n",
       "  'https://portal.edirepository.org/nis/mapbrowse?packageid=knb-lter-ntl.238.3',\n",
       "  'https://portal.edirepository.org/nis/mapbrowse?packageid=knb-lter-ntl.248.2',\n",
       "  'https://portal.edirepository.org/nis/mapbrowse?packageid=knb-lter-ntl.254.17',\n",
       "  'https://portal.edirepository.org/nis/mapbrowse?packageid=knb-lter-ntl.258.2',\n",
       "  'https://portal.edirepository.org/nis/mapbrowse?packageid=knb-lter-ntl.263.2',\n",
       "  'https://portal.edirepository.org/nis/mapbrowse?packageid=knb-lter-ntl.264.14',\n",
       "  'https://portal.edirepository.org/nis/mapbrowse?packageid=knb-lter-ntl.265.2',\n",
       "  'https://portal.edirepository.org/nis/mapbrowse?packageid=knb-lter-ntl.273.10',\n",
       "  'https://portal.edirepository.org/nis/mapbrowse?packageid=knb-lter-ntl.275.1',\n",
       "  'https://portal.edirepository.org/nis/mapbrowse?packageid=knb-lter-ntl.276.13',\n",
       "  'https://portal.edirepository.org/nis/mapbrowse?packageid=knb-lter-ntl.278.20',\n",
       "  'https://portal.edirepository.org/nis/mapbrowse?packageid=knb-lter-ntl.279.1',\n",
       "  'https://portal.edirepository.org/nis/mapbrowse?packageid=knb-lter-ntl.281.2',\n",
       "  'https://portal.edirepository.org/nis/mapbrowse?packageid=knb-lter-ntl.282.1',\n",
       "  'https://portal.edirepository.org/nis/mapbrowse?packageid=knb-lter-ntl.283.1',\n",
       "  'https://portal.edirepository.org/nis/mapbrowse?packageid=knb-lter-ntl.285.1',\n",
       "  'https://portal.edirepository.org/nis/mapbrowse?packageid=knb-lter-ntl.286.1',\n",
       "  'https://portal.edirepository.org/nis/mapbrowse?packageid=knb-lter-ntl.287.1',\n",
       "  'https://portal.edirepository.org/nis/mapbrowse?packageid=knb-lter-ntl.288.2',\n",
       "  'https://portal.edirepository.org/nis/mapbrowse?packageid=knb-lter-ntl.289.4',\n",
       "  'https://portal.edirepository.org/nis/mapbrowse?packageid=knb-lter-ntl.29.18',\n",
       "  'https://portal.edirepository.org/nis/mapbrowse?packageid=knb-lter-ntl.290.2',\n",
       "  'https://portal.edirepository.org/nis/mapbrowse?packageid=knb-lter-ntl.296.2',\n",
       "  'https://portal.edirepository.org/nis/mapbrowse?packageid=knb-lter-ntl.30.17',\n",
       "  'https://portal.edirepository.org/nis/mapbrowse?packageid=knb-lter-ntl.31.23',\n",
       "  'https://portal.edirepository.org/nis/mapbrowse?packageid=knb-lter-ntl.319.1',\n",
       "  'https://portal.edirepository.org/nis/mapbrowse?packageid=knb-lter-ntl.321.5375842',\n",
       "  'https://portal.edirepository.org/nis/mapbrowse?packageid=knb-lter-ntl.322.1',\n",
       "  'https://portal.edirepository.org/nis/mapbrowse?packageid=knb-lter-ntl.325.2',\n",
       "  'https://portal.edirepository.org/nis/mapbrowse?packageid=knb-lter-ntl.326.2',\n",
       "  'https://portal.edirepository.org/nis/mapbrowse?packageid=knb-lter-ntl.329.8',\n",
       "  'https://portal.edirepository.org/nis/mapbrowse?packageid=knb-lter-ntl.330.2',\n",
       "  'https://portal.edirepository.org/nis/mapbrowse?packageid=knb-lter-ntl.331.2',\n",
       "  'https://portal.edirepository.org/nis/mapbrowse?packageid=knb-lter-ntl.332.5',\n",
       "  'https://portal.edirepository.org/nis/mapbrowse?packageid=knb-lter-ntl.333.3',\n",
       "  'https://portal.edirepository.org/nis/mapbrowse?packageid=knb-lter-ntl.336.6',\n",
       "  'https://portal.edirepository.org/nis/mapbrowse?packageid=knb-lter-ntl.337.4',\n",
       "  'https://portal.edirepository.org/nis/mapbrowse?packageid=knb-lter-ntl.339.2',\n",
       "  'https://portal.edirepository.org/nis/mapbrowse?packageid=knb-lter-ntl.340.4',\n",
       "  'https://portal.edirepository.org/nis/mapbrowse?packageid=knb-lter-ntl.341.2',\n",
       "  'https://portal.edirepository.org/nis/mapbrowse?packageid=knb-lter-ntl.342.1',\n",
       "  'https://portal.edirepository.org/nis/mapbrowse?packageid=knb-lter-ntl.343.1',\n",
       "  'https://portal.edirepository.org/nis/mapbrowse?packageid=knb-lter-ntl.344.3',\n",
       "  'https://portal.edirepository.org/nis/mapbrowse?packageid=knb-lter-ntl.347.1',\n",
       "  'https://portal.edirepository.org/nis/mapbrowse?packageid=knb-lter-ntl.348.2',\n",
       "  'https://portal.edirepository.org/nis/mapbrowse?packageid=knb-lter-ntl.349.2',\n",
       "  'https://portal.edirepository.org/nis/mapbrowse?packageid=knb-lter-ntl.350.6',\n",
       "  'https://portal.edirepository.org/nis/mapbrowse?packageid=knb-lter-ntl.351.3',\n",
       "  'https://portal.edirepository.org/nis/mapbrowse?packageid=knb-lter-ntl.352.3',\n",
       "  'https://portal.edirepository.org/nis/mapbrowse?packageid=knb-lter-ntl.354.4',\n",
       "  'https://portal.edirepository.org/nis/mapbrowse?packageid=knb-lter-ntl.36.3',\n",
       "  'https://portal.edirepository.org/nis/mapbrowse?packageid=knb-lter-ntl.37.14',\n",
       "  'https://portal.edirepository.org/nis/mapbrowse?packageid=knb-lter-ntl.38.10',\n",
       "  'https://portal.edirepository.org/nis/mapbrowse?packageid=knb-lter-ntl.4.18',\n",
       "  'https://portal.edirepository.org/nis/mapbrowse?packageid=knb-lter-ntl.40.21',\n",
       "  'https://portal.edirepository.org/nis/mapbrowse?packageid=knb-lter-ntl.41.5',\n",
       "  'https://portal.edirepository.org/nis/mapbrowse?packageid=knb-lter-ntl.42.5',\n",
       "  'https://portal.edirepository.org/nis/mapbrowse?packageid=knb-lter-ntl.44.5',\n",
       "  'https://portal.edirepository.org/nis/mapbrowse?packageid=knb-lter-ntl.5.19',\n",
       "  'https://portal.edirepository.org/nis/mapbrowse?packageid=knb-lter-ntl.69.9',\n",
       "  'https://portal.edirepository.org/nis/mapbrowse?packageid=knb-lter-ntl.70.7',\n",
       "  'https://portal.edirepository.org/nis/mapbrowse?packageid=knb-lter-ntl.71.3',\n",
       "  'https://portal.edirepository.org/nis/mapbrowse?packageid=knb-lter-ntl.79.4',\n",
       "  'https://portal.edirepository.org/nis/mapbrowse?packageid=knb-lter-ntl.87.22',\n",
       "  'https://portal.edirepository.org/nis/mapbrowse?packageid=knb-lter-ntl.9.18',\n",
       "  'https://portal.edirepository.org/nis/mapbrowse?packageid=knb-lter-ntl.90.15',\n",
       "  'https://portal.edirepository.org/nis/mapbrowse?packageid=knb-lter-ntl.91.7',\n",
       "  'https://portal.edirepository.org/nis/mapbrowse?packageid=knb-lter-ntl.92.7',\n",
       "  'https://portal.edirepository.org/nis/mapbrowse?packageid=knb-lter-ntl.93.7',\n",
       "  'https://portal.edirepository.org/nis/mapbrowse?packageid=knb-lter-ntl.95.7',\n",
       "  'https://portal.edirepository.org/nis/mapbrowse?packageid=knb-lter-nwt.157.1',\n",
       "  'https://portal.edirepository.org/nis/mapbrowse?packageid=knb-lter-sbc.56.3',\n",
       "  'https://portal.edirepository.org/nis/mapbrowse?packageid=knb-lter-sbc.93.10'},\n",
       " 307)"
      ]
     },
     "execution_count": 7,
     "metadata": {},
     "output_type": "execute_result"
    }
   ],
   "source": [
    "# obtain the unique links\n",
    "parser = csv.reader(links)\n",
    "a = []\n",
    "unique_links = set()\n",
    "\n",
    "for fields in parser:\n",
    "    for i,f in enumerate(fields):\n",
    "        a.append(f)\n",
    "        unique_links.add('https://portal.edirepository.org/nis/'+f)\n",
    "        \n",
    "unique_links, len(unique_links)"
   ]
  },
  {
   "cell_type": "code",
   "execution_count": 8,
   "metadata": {
    "collapsed": false
   },
   "outputs": [
    {
     "data": {
      "text/plain": [
       "307"
      ]
     },
     "execution_count": 8,
     "metadata": {},
     "output_type": "execute_result"
    }
   ],
   "source": [
    "unique_links_list= list(unique_links)\n",
    "len(unique_links)"
   ]
  },
  {
   "cell_type": "code",
   "execution_count": 6,
   "metadata": {
    "collapsed": false
   },
   "outputs": [],
   "source": [
    "# thefile=open(\"final_links.txt\",'w')\n",
    "# for item in unique_links_list:\n",
    "#     thefile.write(\"%s\\n\" % item)"
   ]
  },
  {
   "cell_type": "markdown",
   "metadata": {},
   "source": [
    "Iterate through the links and obtain the data downloadable links"
   ]
  },
  {
   "cell_type": "code",
   "execution_count": 12,
   "metadata": {
    "collapsed": false
   },
   "outputs": [],
   "source": [
    "#Iterate through list of links and get the download links\n",
    "\n",
    "download_links=[]\n",
    "for link in unique_links_list:\n",
    "    website = urllib.request.urlopen(link)\n",
    "    html = website.read().decode('utf8')\n",
    "    each_download_link = re.findall('dataviewer\\?packageid=[\\w\\-\\.]*\\&entityid=\\w+',html)\n",
    "    download_links = download_links + each_download_link  "
   ]
  },
  {
   "cell_type": "code",
   "execution_count": 13,
   "metadata": {
    "collapsed": false
   },
   "outputs": [
    {
     "data": {
      "text/plain": [
       "702"
      ]
     },
     "execution_count": 13,
     "metadata": {},
     "output_type": "execute_result"
    }
   ],
   "source": [
    "len(download_links)"
   ]
  },
  {
   "cell_type": "markdown",
   "metadata": {},
   "source": [
    "Filter out the duplicate links among the downloadable links and modify each link appropriately so that it can be queried on."
   ]
  },
  {
   "cell_type": "code",
   "execution_count": 10,
   "metadata": {
    "collapsed": false
   },
   "outputs": [],
   "source": [
    "#unique downloadable links of the csv/non-csv files\n",
    "parser = csv.reader(download_links)\n",
    "a = []\n",
    "downloadable_links = set()\n",
    "\n",
    "for fields in parser:\n",
    "    for i,f in enumerate(fields):\n",
    "        a.append(f)\n",
    "        downloadable_links.add('https://portal.edirepository.org/nis/'+f)\n",
    "downloadable_links, len(downloadable_links)\n",
    "downloadable_links=list(downloadable_links)"
   ]
  },
  {
   "cell_type": "code",
   "execution_count": 11,
   "metadata": {
    "collapsed": false
   },
   "outputs": [
    {
     "data": {
      "text/plain": [
       "449"
      ]
     },
     "execution_count": 11,
     "metadata": {},
     "output_type": "execute_result"
    }
   ],
   "source": [
    "len(downloadable_links)"
   ]
  },
  {
   "cell_type": "code",
   "execution_count": 49,
   "metadata": {
    "collapsed": false
   },
   "outputs": [
    {
     "name": "stdout",
     "output_type": "stream",
     "text": [
      "Response Error\n",
      "Response Error\n",
      "Response Error\n",
      "Response Error\n",
      "Response Error\n",
      "Response Error\n",
      "Response Error\n",
      "Response Error\n",
      "Response Error\n"
     ]
    }
   ],
   "source": [
    "#Initialize the counts of csv and non-csv files\n",
    "\n",
    "count_csv = 0\n",
    "count_noncsv = 0\n",
    "count_failed = 0\n",
    "count_zip = 0\n",
    "\n",
    "for each in downloadable_links:\n",
    "    #Get filename of the url that is to be downloaded.\n",
    "    try:\n",
    "        response = urllib.request.urlopen(each)\n",
    "        tupleValue = response.getheaders()[3]\n",
    "        filename = tupleValue[1][21:]\n",
    "        filename = re.sub('\"','',filename)\n",
    "        \n",
    "        #Check from the filename if it is csv\n",
    "        if (\".csv\" in filename) or (\".CSV\" in filename):  \n",
    "            new_file_name = 'Limnology/csv-files/'+filename\n",
    "            count_csv+=1\n",
    "        elif \".zip\" in filename:\n",
    "            new_file_name = 'Limnology/zip-files/'+filename\n",
    "            count_zip+=1\n",
    "        else:\n",
    "            new_file_name = 'Limnology/noncsv-files/'+filename\n",
    "            count_noncsv+=1\n",
    "\n",
    "        #Download the files in appropriate folder\n",
    "        urllib.request.urlretrieve(each,new_file_name)\n",
    "    except:\n",
    "        print(\"Response Error\")\n",
    "        count_failed+=1\n",
    "        continue\n",
    "  \n",
    "   "
   ]
  },
  {
   "cell_type": "code",
   "execution_count": 50,
   "metadata": {
    "collapsed": false
   },
   "outputs": [
    {
     "name": "stdout",
     "output_type": "stream",
     "text": [
      "226\n",
      "213\n",
      "1\n",
      "9\n",
      "449\n"
     ]
    }
   ],
   "source": [
    "print(count_noncsv)\n",
    "print(count_csv)\n",
    "print(count_zip)\n",
    "print(count_failed)\n",
    "print(count_noncsv+count_csv+count_failed+count_zip)"
   ]
  },
  {
   "cell_type": "markdown",
   "metadata": {},
   "source": [
    "Iterate through the folder containing zipped files and retrieve the csv files present in them"
   ]
  },
  {
   "cell_type": "code",
   "execution_count": 51,
   "metadata": {
    "collapsed": true
   },
   "outputs": [],
   "source": [
    "import zipfile\n",
    "import os  \n",
    "\n",
    "#Unzipping all the .zip files\n",
    "for file in os.listdir('Limnology/zip-files'):\n",
    "     if os.path.isfile(file):\n",
    "        zip_ref = zipfile.ZipFile(os.path.join(file), 'r')\n",
    "        zip_ref.extractall('Limnology/unzipped-files')\n",
    "        zip_ref.close()\n"
   ]
  },
  {
   "cell_type": "code",
   "execution_count": 52,
   "metadata": {
    "collapsed": false
   },
   "outputs": [],
   "source": [
    "#Separating out the csv files from them\n",
    "\n",
    "for file in os.listdir('Limnology/unzipped-files'):\n",
    "    if (\".csv\" in file) or (\".CSV\" in file):  \n",
    "        #move the file to csv folder\n",
    "        os.rename(os.path.join('Limnology/unzipped-files',file), os.path.join('Limnology/csv-files',file))\n",
    "        count_csv+=1\n",
    "    else:\n",
    "        #move the file to non-csv folder\n",
    "        os.rename(os.path.join('Limnology/unzipped-files',file), os.path.join('Limnology/noncsv-files',file))\n",
    "        count_noncsv+=1\n",
    "        \n"
   ]
  },
  {
   "cell_type": "code",
   "execution_count": 53,
   "metadata": {
    "collapsed": false
   },
   "outputs": [
    {
     "name": "stdout",
     "output_type": "stream",
     "text": [
      "2343\n",
      "215\n",
      "1\n",
      "9\n",
      "2568\n"
     ]
    }
   ],
   "source": [
    "print(count_noncsv)\n",
    "print(count_csv)\n",
    "print(count_zip)\n",
    "print(count_failed)\n",
    "print(count_noncsv+count_csv+count_failed+count_zip)\n"
   ]
  }
 ],
 "metadata": {
  "kernelspec": {
   "display_name": "Python 3",
   "language": "python",
   "name": "python3"
  },
  "language_info": {
   "codemirror_mode": {
    "name": "ipython",
    "version": 3
   },
   "file_extension": ".py",
   "mimetype": "text/x-python",
   "name": "python",
   "nbconvert_exporter": "python",
   "pygments_lexer": "ipython3",
   "version": "3.6.3"
  }
 },
 "nbformat": 4,
 "nbformat_minor": 2
}
